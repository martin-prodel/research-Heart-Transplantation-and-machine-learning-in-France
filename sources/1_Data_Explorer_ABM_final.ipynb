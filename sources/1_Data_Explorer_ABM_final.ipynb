{
 "cells": [
  {
   "cell_type": "markdown",
   "id": "05f5fe19",
   "metadata": {},
   "source": [
    "# The French Agence de la biomedecine (ABM): data processing\n",
    "- Topic: Rank Order of Candidates for Heart Transplantation in France: An Explainable Machine Learning analysis\n",
    "- Authors : Martin Prodel (MS, PhD), Benoit Audry (MS)\n",
    "- Created in 2025 "
   ]
  },
  {
   "cell_type": "markdown",
   "id": "9228520e",
   "metadata": {},
   "source": [
    "## Import packages"
   ]
  },
  {
   "cell_type": "code",
   "execution_count": null,
   "id": "17d8ac10",
   "metadata": {},
   "outputs": [],
   "source": [
    "import numpy as np\n",
    "import pandas as pd\n",
    "import matplotlib.pyplot as plt\n",
    "import seaborn as sns\n",
    "from ydata_profiling import ProfileReport\n",
    "\n",
    "# home-made functions\n",
    "from analyses import correlation_pearson, correlation_spearman, plot_delai, plot_rank"
   ]
  },
  {
   "cell_type": "code",
   "execution_count": null,
   "id": "b77deda7",
   "metadata": {},
   "outputs": [],
   "source": [
    "%load_ext autoreload\n",
    "%autoreload 2"
   ]
  },
  {
   "cell_type": "markdown",
   "id": "bbdf70efe05aa8a8",
   "metadata": {},
   "source": [
    "## Import data"
   ]
  },
  {
   "cell_type": "code",
   "execution_count": null,
   "id": "4b9c65ca",
   "metadata": {},
   "outputs": [],
   "source": [
    "# Import the data from a pickle file : each row is the ranking of a candidate patient for of a given donor (heart)\n",
    "df = pd.read_pickle(\"../data/df_formatted_complete.pkl\")\n",
    "df.info(memory_usage=\"deep\")"
   ]
  },
  {
   "cell_type": "markdown",
   "id": "ec90802e84f8a79b",
   "metadata": {},
   "source": [
    "## EDA & Preprocessing"
   ]
  },
  {
   "cell_type": "markdown",
   "id": "6b36e557",
   "metadata": {},
   "source": [
    "### Exploratory Data Analysis (EDA) "
   ]
  },
  {
   "cell_type": "code",
   "execution_count": null,
   "id": "e91f8ca9",
   "metadata": {},
   "outputs": [],
   "source": [
    "# Simple EDA with pandas profiling\n",
    "profile = ProfileReport(df, title=\"Pandas Profiling Report\")\n",
    "\n",
    "# Exporting the report to a file\n",
    "profile.to_file(\"../results/eda_report.html\")"
   ]
  },
  {
   "cell_type": "markdown",
   "id": "7b2c7ac3",
   "metadata": {},
   "source": [
    "### Preprocessing (1/3)"
   ]
  },
  {
   "cell_type": "code",
   "execution_count": null,
   "id": "72abb749fd7cb03c",
   "metadata": {},
   "outputs": [],
   "source": [
    "remove_col = [\"ETATLA\", \"MALADI3\", \"MALADI2\"]  # useless columns\n",
    "df = df.drop(columns=remove_col)\n",
    "df.head()"
   ]
  },
  {
   "cell_type": "code",
   "execution_count": null,
   "id": "b9c058a37b0c0f5e",
   "metadata": {},
   "outputs": [],
   "source": [
    "# You may need to silent a certain warning, uncomment the following if needed\n",
    "# pd.set_option('future.no_silent_downcasting', True)\n",
    "\n",
    "# Encoding categorical variables : gender of the donor (SEXD) and of the receiver (SEXER)\n",
    "df.SEXD = df.SEXD.replace({\"M\": 1, \"F\": 2}).astype(int)\n",
    "df.SEXER = df.SEXER.replace({\"M\": 1, \"F\": 2}).astype(int)"
   ]
  },
  {
   "cell_type": "code",
   "execution_count": null,
   "id": "6479813f9b4f59f5",
   "metadata": {},
   "outputs": [],
   "source": [
    "# Fix the ranking system for \"not ranked patients\": all patients with a SCORE_C of zero are randomly ranked after the last ranked patient,\n",
    "# but there is no medical sense in ordering them.\n",
    "# Solution: assign all these patients the same rank, which is the worse rank observed for this donor with a score of zero\n",
    "# Example: for a donor, if 10 recipients are ranked, including 4 with a score of 0, then these 4 patients are assigned at rank 6 (and not 7, 8, 9, 10)\n",
    "\n",
    "rang_min_zero = (\n",
    "    df[df.SCORE_C == 0]\n",
    "    .groupby(\"IDD\")[\"Rang\"]\n",
    "    .min()\n",
    "    .reset_index()\n",
    "    .rename(columns={\"Rang\": \"rang_min_zero_score\"})\n",
    ")\n",
    "df = df.merge(rang_min_zero, on=\"IDD\", how=\"left\")\n"
   ]
  },
  {
   "cell_type": "code",
   "execution_count": null,
   "id": "830075b7c96d8b97",
   "metadata": {},
   "outputs": [],
   "source": [
    "# Create a column \"Rang_clipped\" which is equal to \"Rang\" except for patients with SCORE_C of 0, where it is equal to rang_min_zero_score\n",
    "df[\"Rang_clipped\"] = df[\"rang_min_zero_score\"].where(df.SCORE_C == 0, df[\"Rang\"])"
   ]
  },
  {
   "cell_type": "code",
   "execution_count": null,
   "id": "4d2d047e79dff00",
   "metadata": {},
   "outputs": [],
   "source": [
    "### Step 1 : Re-scale rank from 0 to 1 for each heart (IDD) : min-max scaling (0 to 1 Linear Transformation)\n",
    "# Pour chaque donneur, connaître le rang min (qui doit être 1 systématiquement) et le rang max attribué (dépend du nombre de personnes en attente à ce moment là)\n",
    "bounds_rank = (\n",
    "    df.groupby(\"IDD\")[\"Rang_clipped\"]\n",
    "    .agg([\"min\", \"max\"])\n",
    "    .reset_index()\n",
    "    .rename(columns={\"min\": \"rang_min_D\", \"max\": \"rang_max_D\"})\n",
    ")\n",
    "df = df.merge(bounds_rank, on=\"IDD\", how=\"left\")\n",
    "# min max scale\n",
    "df[\"Rang_rescaled\"] = (df[\"Rang_clipped\"] - df[\"rang_min_D\"]) / (\n",
    "    df[\"rang_max_D\"] - df[\"rang_min_D\"]\n",
    ")\n",
    "display(df.head())\n",
    "\n",
    "# Also, we want 1 to be the better outcome, and 0 the worse, so let's reverse it\n",
    "df[\"Rang_rescaled\"] = 1 - df[\"Rang_rescaled\"]\n",
    "\n",
    "### Step 2: Power transformation (Non-Linear Scaling)\n",
    "p = 2  # Power factor (adjust for desired effect)\n",
    "df[\"Rang_rescaled\"] = df[\"Rang_rescaled\"] ** p\n",
    "\n",
    "# remove useless columns\n",
    "df = df.drop(columns=[\"rang_min_zero_score\", \"Rang\", \"rang_min_D\", \"rang_max_D\"])"
   ]
  },
  {
   "cell_type": "code",
   "execution_count": null,
   "id": "d7947469733f4d3a",
   "metadata": {},
   "outputs": [],
   "source": [
    "# machine learning target\n",
    "target = \"Rang_rescaled\""
   ]
  },
  {
   "cell_type": "markdown",
   "id": "ada6d611e750b9ca",
   "metadata": {},
   "source": [
    "### Missings values"
   ]
  },
  {
   "cell_type": "code",
   "execution_count": null,
   "id": "0161a671-ea63-458e-a4ba-a4e701c93960",
   "metadata": {},
   "outputs": [],
   "source": [
    "print(df.CEC2.value_counts())\n",
    "df[\"CEC2\"] = df[\"CEC2\"].fillna(\"N\")\n",
    "print(df.CEC2.value_counts())"
   ]
  },
  {
   "cell_type": "code",
   "execution_count": null,
   "id": "0e2f6e57-5162-442b-90d9-a465551d9115",
   "metadata": {},
   "outputs": [],
   "source": [
    "print(df.CAT2.value_counts())\n",
    "df[\"CAT2\"] = df[\"CAT2\"].fillna(\"N\")\n",
    "print(df.CAT2.value_counts())\n",
    "df.CAT2 = df.CAT2.replace({\"?\": \"N\"})\n",
    "print(df.CAT2.value_counts())"
   ]
  },
  {
   "cell_type": "code",
   "execution_count": null,
   "id": "5d43b38c-4119-44a6-b8a6-58a3bf3f6d22",
   "metadata": {},
   "outputs": [],
   "source": [
    "print(df.DIA2.value_counts())\n",
    "df[\"DIA2\"] = df[\"DIA2\"].fillna(\"N\")\n",
    "print(df.DIA2.value_counts())\n",
    "df.DIA2 = df.DIA2.replace({\"?\": \"N\"})\n",
    "print(df.DIA2.value_counts())"
   ]
  },
  {
   "cell_type": "code",
   "execution_count": null,
   "id": "972917cb-10d1-46a1-b82f-d2fa59cbeb1d",
   "metadata": {},
   "outputs": [],
   "source": [
    "print(df.DIA_AVI.value_counts())\n",
    "df[\"DIA_AVI\"] = df[\"DIA_AVI\"].fillna(\"N\")\n",
    "print(df.DIA_AVI.value_counts())\n",
    "df.DIA_AVI = df.DIA_AVI.replace({\"?\": \"N\"})\n",
    "print(df.DIA_AVI.value_counts())"
   ]
  },
  {
   "cell_type": "code",
   "execution_count": null,
   "id": "da52c020-c9e6-4882-885f-f42e13a36b6b",
   "metadata": {},
   "outputs": [],
   "source": [
    "print(df.DRG2.value_counts())\n",
    "df[\"DRG2\"] = df[\"DRG2\"].fillna(\"N\")\n",
    "print(df.DRG2.value_counts())\n",
    "# If there is another device support (CEC, CAT, SIAV), then we set the drugs to N (=\"No\")\n",
    "df[\"DRG2\"] = np.where(df[\"CEC2\"] == \"O\", \"N\", df[\"DRG2\"])\n",
    "print(df.DRG2.value_counts())\n",
    "df[\"DRG2\"] = np.where(df[\"CAT2\"] == \"O\", \"N\", df[\"DRG2\"])\n",
    "print(df.DRG2.value_counts())\n",
    "df[\"DRG2\"] = np.where(df[\"SIAV2\"].isna(), df[\"DRG2\"], \"N\")\n",
    "print(df.DRG2.value_counts())"
   ]
  },
  {
   "cell_type": "markdown",
   "id": "49901ad6",
   "metadata": {},
   "source": [
    "### Preprocessing (2/3)"
   ]
  },
  {
   "cell_type": "code",
   "execution_count": null,
   "id": "5d9af1e1-dd50-4f66-855a-04020d9e038c",
   "metadata": {},
   "outputs": [],
   "source": [
    "# Addition of a composite variable of 3 others: glomerular filtration rate (GFR)\n",
    "# Warning: very high GFR values are obtained for infants (aged between 1 and 3 years)\n",
    "df[\"DFG\"] = (\n",
    "    186.3\n",
    "    * (df[\"CREAT2\"] / 88.4) ** (-1.154)\n",
    "    * df[\"AGER\"] ** (-0.203)\n",
    "    * df[\"SEXER\"].mask(df[\"SEXER\"] == 2, 0.742)\n",
    ")\n",
    "\n",
    "# Note: there are missing values for this calculated variable DFG, when CREAT2 is NaN  (N=4961 rows in the df)\n",
    "# # df[df.DFG.isna()][[\"CREAT2\", \"AGER\", \"SEXER\"]]\n",
    "\n",
    "print(df.DFG.describe())\n",
    "# Imputation of DFG to 15 when DIA2=\"O\"\n",
    "print(df.DIA2.value_counts())\n",
    "df[\"DFG\"] = np.where(df[\"DIA2\"] == \"O\", 15, df[\"DFG\"])\n",
    "print(df.DFG.describe())"
   ]
  },
  {
   "cell_type": "code",
   "execution_count": null,
   "id": "1bb40683-8ecd-42a5-8215-6a51270bf448",
   "metadata": {},
   "outputs": [],
   "source": [
    "# Same as the cell above, but for the variables with suffix _AVI\n",
    "df[\"DFG_AVI\"] = (\n",
    "    186.3\n",
    "    * (df[\"CRE_AVI\"] / 88.4) ** (-1.154)\n",
    "    * df[\"AGER\"] ** (-0.203)\n",
    "    * df[\"SEXER\"].mask(df[\"SEXER\"] == 2, 0.742)\n",
    ")\n",
    "\n",
    "print(df.DFG_AVI.describe())\n",
    "print(df.DIA_AVI.value_counts())\n",
    "df[\"DFG_AVI\"] = np.where(df[\"DIA_AVI\"] == \"O\", 15, df[\"DFG_AVI\"])\n",
    "print(df.DFG_AVI.describe())"
   ]
  },
  {
   "cell_type": "code",
   "execution_count": null,
   "id": "0164cddc-bd5e-4068-9c2a-ecdb16cbfa6a",
   "metadata": {},
   "outputs": [],
   "source": [
    "# useless columns\n",
    "drop_crea_cols = [\n",
    "    \"CREAT2\",\n",
    "    \"DelaiCREAT2\",\n",
    "    \"DIA2\",\n",
    "    \"CRE_AVI\",\n",
    "    \"DIA_AVI\",\n",
    "]"
   ]
  },
  {
   "cell_type": "code",
   "execution_count": null,
   "id": "e3ab6b22-38fe-475c-806c-3c89b0f47de6",
   "metadata": {},
   "outputs": [],
   "source": [
    "# Decision for variables DecilePEPT vs. CEC2, CAR2, SIAV2: set DecilePEPT to NaN if any of these variables have certain values.\n",
    "# This affects 7,515 rows in the data.\n",
    "# If (CEC2=‘O’ OR CAT2=‘O’ OR SIAV2=‘BV’) then DECILE_PEPT=NaN\n",
    "# df.CAT2 = df.CAT2.astype(str)\n",
    "df[\"DecilePEPT\"] = df.DecilePEPT.mask(\n",
    "    (df.CEC2 == \"O\") | (df.CAT2 == \"O\") | (df.SIAV2 == \"BV\"), other=np.nan\n",
    ")\n",
    "df[df.DecilePEPT.isna()]"
   ]
  },
  {
   "cell_type": "code",
   "execution_count": null,
   "id": "bb3844c8-a893-45cd-adce-8f3dfe7041e1",
   "metadata": {},
   "outputs": [],
   "source": [
    "# Set to NA also when BNP2 and PROBNP2 are NA\n",
    "print(df.DecilePEPT.value_counts())\n",
    "df[\"DecilePEPT\"] = np.where(\n",
    "    df[\"BNP2\"].isna() & df[\"PROBNP2\"].isna(), np.nan, df[\"DecilePEPT\"]\n",
    ")\n",
    "print(df.DecilePEPT.value_counts())\n",
    "df[df.DecilePEPT.isna()]"
   ]
  },
  {
   "cell_type": "code",
   "execution_count": null,
   "id": "3c82e618-cc4b-4e8d-82f4-9fbe41371718",
   "metadata": {},
   "outputs": [],
   "source": [
    "# Decision for variables DecilePEPT vs. CEC2, CAR2, SIAV2: set DecilePEPT to NaN if any of these variables have certain values.\n",
    "# This affects 7,515 rows in the data.\n",
    "# If (CEC2=‘O’ OR CAT2=‘O’ OR SIAV2=‘BV’) then DECILE_PEPT=NaN\n",
    "# df.CAT2 = df.CAT2.astype(str)\n",
    "df[\"DecilePEPT_AVI\"] = df.DecilePEPT.mask(\n",
    "    (df.CEC2 == \"O\") | (df.CAT2 == \"O\") | (df.SIAV2 == \"BV\"), other=np.nan\n",
    ")\n",
    "df[df.DecilePEPT.isna()]"
   ]
  },
  {
   "cell_type": "code",
   "execution_count": null,
   "id": "72e35105-db2e-4a71-86cb-a2ff585ab029",
   "metadata": {},
   "outputs": [],
   "source": [
    "# Also set to NA when BNP2 and PROBNP2 are NA\n",
    "print(df.DecilePEPT_AVI.value_counts())\n",
    "df[\"DecilePEPT_AVI\"] = np.where(\n",
    "    df[\"BNP_AVI\"].isna() & df[\"PBN_AVI\"].isna(), np.nan, df[\"DecilePEPT_AVI\"]\n",
    ")\n",
    "print(df.DecilePEPT_AVI.value_counts())\n",
    "df[df.DecilePEPT_AVI.isna()]"
   ]
  },
  {
   "cell_type": "code",
   "execution_count": null,
   "id": "00eb8c18-a1ff-4f90-9be8-721a3c1d20b7",
   "metadata": {},
   "outputs": [],
   "source": [
    "# Transform the variable MALADI into a categorical variable with 4 categories\n",
    "print(df[\"MALADI\"].value_counts())\n",
    "df[\"MAL\"] = \"Other\"\n",
    "df.loc[df[\"MALADI\"] == 159, \"MAL\"] = \"Coronary artery disease\"\n",
    "df.loc[df[\"MALADI\"] == 162, \"MAL\"] = \"Valvular or Congenital heart disease\"\n",
    "df.loc[df[\"MALADI\"] == 163, \"MAL\"] = \"Valvular or Congenital heart disease\"\n",
    "df.loc[df[\"MALADI\"] == 815, \"MAL\"] = \"Valvular or Congenital heart disease\"\n",
    "df.loc[df[\"MALADI\"] == 151, \"MAL\"] = \"Dilated cardiomyopathy\"\n",
    "df.loc[df[\"MALADI\"] == 152, \"MAL\"] = \"Dilated cardiomyopathy\"\n",
    "df.loc[df[\"MALADI\"] == 154, \"MAL\"] = \"Dilated cardiomyopathy\"\n",
    "df.loc[df[\"MALADI\"] == 155, \"MAL\"] = \"Dilated cardiomyopathy\"\n",
    "df.loc[df[\"MALADI\"] == 164, \"MAL\"] = \"Dilated cardiomyopathy\"\n",
    "print(df[\"MAL\"].value_counts())"
   ]
  },
  {
   "cell_type": "code",
   "execution_count": null,
   "id": "9568d2fe-5cff-4f9e-bbaa-e016d33e1465",
   "metadata": {},
   "outputs": [],
   "source": [
    "# Merge CAT and BV\n",
    "print(df.SIAV2.value_counts())\n",
    "print(df.CAT2.value_counts())\n",
    "df[\"CAT_BV\"] = np.where(df[\"SIAV2\"] == \"BV\", \"O\", df[\"CAT2\"])\n",
    "print(df.CAT_BV.value_counts())\n",
    "df[\"SIAV2\"] = np.where(df[\"SIAV2\"] == \"BV\", np.nan, df[\"SIAV2\"])\n",
    "print(df.SIAV2.value_counts())"
   ]
  },
  {
   "cell_type": "code",
   "execution_count": null,
   "id": "b4bfb25e-da07-43d9-b51b-309263bb059e",
   "metadata": {},
   "outputs": [],
   "source": [
    "## Modify ADULTURGENCE to have SIAV\n",
    "print(df.ALLOC.value_counts())\n",
    "print(df.SIAV2.value_counts())\n",
    "df[\"ALLOC\"] = np.where(\n",
    "    (df[\"ALLOC\"] == \"ADULTURG\") & (np.invert(df[\"SIAV2\"].isna())),\n",
    "    \"ADULTURG_AV\",\n",
    "    df[\"ALLOC\"],\n",
    ")\n",
    "print(df.ALLOC.value_counts())"
   ]
  },
  {
   "cell_type": "code",
   "execution_count": null,
   "id": "03fa1101-2978-4018-a759-091bdae8c3b6",
   "metadata": {},
   "outputs": [],
   "source": [
    "# Set SIAV2 to NA when ALLOC is in emergency mode\n",
    "print(df.SIAV2.value_counts())\n",
    "df[\"SIAV2\"] = np.where(df[\"ALLOC\"] == \"ADULTURG_AV\", np.nan, df[\"SIAV2\"])\n",
    "print(df.SIAV2.value_counts())"
   ]
  },
  {
   "cell_type": "code",
   "execution_count": null,
   "id": "33fb4389e8521ad7",
   "metadata": {},
   "outputs": [],
   "source": [
    "# Analysis of missing values\n",
    "missing_data = df.isnull().mean() * 100  # % of missing values\n",
    "missing_by_target = df.groupby(target).apply(lambda group: group.isnull().mean() * 100)\n",
    "\n",
    "# Display missing data\n",
    "print(\"\\nGlobal percentage of missing values:\\n\", missing_data)\n",
    "print(\"\\nPercentage of missing values by target group:\\n\", missing_by_target)\n",
    "\n",
    "# Visualisation of missing values\n",
    "plt.figure(figsize=(15, 6))\n",
    "sns.heatmap(df.isnull(), cbar=False, cmap=\"viridis\")\n",
    "plt.title(\"Map of missing values\")\n",
    "plt.show()"
   ]
  },
  {
   "cell_type": "markdown",
   "id": "12b0244a134b2d72",
   "metadata": {},
   "source": [
    "### Correlations: pearson"
   ]
  },
  {
   "cell_type": "code",
   "execution_count": null,
   "id": "51925eeff47079bf",
   "metadata": {},
   "outputs": [],
   "source": [
    "correlation_pearson(df, target)"
   ]
  },
  {
   "cell_type": "markdown",
   "id": "f9fd9958bb5ab61e",
   "metadata": {
    "editable": true,
    "slideshow": {
     "slide_type": ""
    },
    "tags": []
   },
   "source": [
    "### Correlations: spearman"
   ]
  },
  {
   "cell_type": "code",
   "execution_count": null,
   "id": "951e887ac11fdfaa",
   "metadata": {},
   "outputs": [],
   "source": [
    "# (warning) 2 min of computation time\n",
    "correlation_spearman(df, target)"
   ]
  },
  {
   "cell_type": "markdown",
   "id": "2d7d5e39-fefe-4050-9efc-fcedbfea30f7",
   "metadata": {},
   "source": [
    "### Preprocessing (3/3)"
   ]
  },
  {
   "cell_type": "code",
   "execution_count": null,
   "id": "18e86b42a844eb75",
   "metadata": {},
   "outputs": [],
   "source": [
    "# Number of patients (reveivers) for each heart\n",
    "df.groupby(\"IDD\")[\"IDR\"].count().describe()"
   ]
  },
  {
   "cell_type": "code",
   "execution_count": null,
   "id": "cb6752a47355644a",
   "metadata": {},
   "outputs": [],
   "source": [
    "# Number of times a patient was ranked while waiting for a heart\n",
    "df.groupby(\"IDR\")[\"IDD\"].count().describe()"
   ]
  },
  {
   "cell_type": "code",
   "execution_count": null,
   "id": "3a54d6faa585c8f9",
   "metadata": {},
   "outputs": [],
   "source": [
    "# Search for the patients who were ranked a lot of times ... (it migth biased the ML algorithms)\n",
    "x = df.groupby(\"IDR\")[\"IDD\"].count().reset_index()"
   ]
  },
  {
   "cell_type": "code",
   "execution_count": null,
   "id": "b003f639-76fe-41e3-9ee2-dfac2b8ccb2b",
   "metadata": {},
   "outputs": [],
   "source": [
    "# Max value of TimelineD for each patient\n",
    "delai = df.groupby(\"IDR\")[\"TimelineD\"].agg([\"max\"]).reset_index().astype(int)"
   ]
  },
  {
   "cell_type": "code",
   "execution_count": null,
   "id": "9afecb1c9c6edc9",
   "metadata": {},
   "outputs": [],
   "source": [
    "delai = df.groupby(\"IDR\")[\"TimelineD\"].agg([\"min\", \"max\"]).reset_index().astype(int)\n",
    "delai[\"delai\"] = delai[\"max\"] - delai[\"min\"]\n",
    "delai[\"delai\"].describe()"
   ]
  },
  {
   "cell_type": "code",
   "execution_count": null,
   "id": "b24edeb3c4e39cf7",
   "metadata": {},
   "outputs": [],
   "source": [
    "plot_delai(delai)"
   ]
  },
  {
   "cell_type": "code",
   "execution_count": null,
   "id": "50ff39fd74062c8f",
   "metadata": {},
   "outputs": [],
   "source": [
    "x_range = [-0.05, 1.05]\n",
    "xdtick = 0.1\n",
    "target_col = \"Rang_rescaled\"\n",
    "plot_rank(df, target_col, x_range, xdtick, color=\"goldenrod\", nbins=150)"
   ]
  },
  {
   "cell_type": "code",
   "execution_count": null,
   "id": "816be3add4fec466",
   "metadata": {},
   "outputs": [],
   "source": [
    "# First rank when entering the waiting list\n",
    "# Step 1 : find the row with the earliest time for each patient\n",
    "first = df.loc[df.groupby(\"IDR\")[\"TimelineD\"].idxmin()]\n",
    "\n",
    "# Step 2 : keep only the IDR columns and the corresponding rank\n",
    "first = first[[\"IDR\", target]]\n",
    "\n",
    "# Step 3 : reset the index for a clean presentation\n",
    "first = first.reset_index(drop=True)\n",
    "\n",
    "plot_rank(first, target, x_range, xdtick, color=\"mediumvioletred\", nbins=50)\n",
    "first[target].describe()"
   ]
  },
  {
   "cell_type": "code",
   "execution_count": null,
   "id": "93733c03a8f50fab",
   "metadata": {},
   "outputs": [],
   "source": [
    "# Study of the best rank ever obtained for each patient\n",
    "# Warning : if the rank is rescaled in 0-1, then the \"best rank\" is 1, so we use the max function\n",
    "best = first.merge(df.groupby(\"IDR\")[target].max().reset_index(), on=\"IDR\").rename(\n",
    "    columns={f\"{target}_x\": \"1st rank\", f\"{target}_y\": \"Best rank\"}\n",
    ")\n",
    "plot_rank(best, \"Best rank\", x_range, xdtick, color=\"seagreen\", nbins=90)\n",
    "display(best.head())\n",
    "best[\"Best rank\"].describe()"
   ]
  },
  {
   "cell_type": "code",
   "execution_count": null,
   "id": "a0a75ae52f34d5c2",
   "metadata": {},
   "outputs": [],
   "source": [
    "# New variable : number of patients for each donor (heart), which is an estimation of the competition for this heart\n",
    "nb_pat_for_idd = (\n",
    "    df[df.SCORE_C > 0]\n",
    "    .groupby(\"IDD\")[\"IDR\"]\n",
    "    .count()\n",
    "    .reset_index()\n",
    "    .rename(columns={\"IDR\": \"nb_pat_for_idd\"})\n",
    ")\n",
    "df = df.merge(nb_pat_for_idd, on=\"IDD\", how=\"left\")\n",
    "nb_pat_for_idd.head()"
   ]
  },
  {
   "cell_type": "code",
   "execution_count": null,
   "id": "af7c22c5-6211-44ba-a3a7-30fb9812cd3a",
   "metadata": {},
   "outputs": [],
   "source": [
    "df.nb_pat_for_idd.describe()"
   ]
  },
  {
   "cell_type": "markdown",
   "id": "e0b652313a567f18",
   "metadata": {},
   "source": [
    "### Feature selection"
   ]
  },
  {
   "cell_type": "code",
   "execution_count": null,
   "id": "fa0f5659-1d64-47eb-a80b-2b7660a00722",
   "metadata": {},
   "outputs": [],
   "source": [
    "# Very important decision : we will only train the ML algorithms on patients who have a SCORE_C > 0\n",
    "# Indeed, patients with a SCORE_C of 0 are not really ranked nor suited for the transplant\n",
    "\n",
    "df_sup0 = df[df.SCORE_C > 0].copy()"
   ]
  },
  {
   "cell_type": "code",
   "execution_count": null,
   "id": "5c49bf59-9113-4d04-9979-c8fc54d310f1",
   "metadata": {},
   "outputs": [],
   "source": [
    "# All observations in the datasets were given the same weight\n",
    "df_sup0[\"observation_weight\"] = 1"
   ]
  },
  {
   "cell_type": "code",
   "execution_count": null,
   "id": "9637af56-8856-438d-8d18-5cd77b8155a1",
   "metadata": {},
   "outputs": [],
   "source": [
    "# export in pickle for quicker reuse (and drop useless columns)\n",
    "df_sup0.drop(columns=[\"Rang_clipped\", \"MALADI\"] + drop_crea_cols).to_pickle(\n",
    "    \"../data/df_for_ml_article.pkl\"\n",
    ")"
   ]
  },
  {
   "cell_type": "code",
   "execution_count": null,
   "id": "77a865ca588cb806",
   "metadata": {},
   "outputs": [],
   "source": [
    "# Redo the Pandas Profiling after the preprocessing\n",
    "profile = ProfileReport(df, title=\"Pandas Profiling Report of 'df_for_article'\")\n",
    "# Exporting the report to a file\n",
    "profile.to_file(\"../results/eda_report_df_for_article.html\")"
   ]
  }
 ],
 "metadata": {
  "kernelspec": {
   "display_name": "article-abm",
   "language": "python",
   "name": "article-abm"
  },
  "language_info": {
   "codemirror_mode": {
    "name": "ipython",
    "version": 3
   },
   "file_extension": ".py",
   "mimetype": "text/x-python",
   "name": "python",
   "nbconvert_exporter": "python",
   "pygments_lexer": "ipython3",
   "version": "3.13.5"
  }
 },
 "nbformat": 4,
 "nbformat_minor": 5
}
