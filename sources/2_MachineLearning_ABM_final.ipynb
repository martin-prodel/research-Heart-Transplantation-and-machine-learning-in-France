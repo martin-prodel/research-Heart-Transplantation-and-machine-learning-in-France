{
 "cells": [
  {
   "cell_type": "markdown",
   "id": "341ea246-4cf5-4bc9-bc77-5b66a1cb14fc",
   "metadata": {},
   "source": [
    "# Machine Learning part\n",
    "- Build a ML model to explain the rank\n",
    "- Topic: Rank Order of Candidates for Heart Transplantation in France: An Explainable Machine Learning analysis\n",
    "- Authors : Martin Prodel (MS, PhD), Benoit Audry (MS)\n",
    "- Created in 2025 "
   ]
  },
  {
   "cell_type": "markdown",
   "id": "cc22ac25-e71d-4dbc-923d-ed72bcebc882",
   "metadata": {},
   "source": [
    "# Imports"
   ]
  },
  {
   "cell_type": "markdown",
   "id": "ee28110a-a87b-46e2-8b33-c7a19f1dd76a",
   "metadata": {},
   "source": [
    "## import packages"
   ]
  },
  {
   "cell_type": "code",
   "execution_count": null,
   "id": "5a8c96f2-5e3c-4366-87e0-a8dca0f92699",
   "metadata": {},
   "outputs": [],
   "source": [
    "import pandas as pd\n",
    "import numpy as np\n",
    "from sklearn.tree import DecisionTreeRegressor\n",
    "from sklearn.model_selection import train_test_split, GroupKFold, GroupShuffleSplit\n",
    "from sklearn.ensemble import RandomForestRegressor\n",
    "from xgboost import XGBRegressor\n",
    "import pickle\n",
    "import shap\n",
    "import matplotlib.pyplot as plt\n",
    "import math\n",
    "from tqdm import tqdm\n",
    "from matplotlib.colors import ListedColormap\n",
    "import matplotlib.ticker as ticker\n",
    "\n",
    "# internal\n",
    "from ml_training_ABM import train_cv_regressor, train_cv_regressor_group_effect\n",
    "from ml_data_viz_ABM import (\n",
    "    train_vs_test_error_curve,\n",
    "    residual_plot,\n",
    "    histo_residuals,\n",
    "    feature_importance,\n",
    "    predicted_vs_actual,\n",
    "    learning_cure,\n",
    "    partial_dependence_plot,\n",
    "    compute_shap_values,\n",
    "    compute_shap_interaction_values,\n",
    "    decision_path_analysis,\n",
    "    trend_threshold_detection,\n",
    "    draw_single_shap_plot,\n",
    "    draw_single_shap_plot_uni,\n",
    ")\n",
    "\n",
    "from params_ABM import (\n",
    "    target_col,\n",
    "    variables_deduced,\n",
    "    variables_donneur,\n",
    "    variables_redundant_sup0,\n",
    "    map_col_name,\n",
    ")\n",
    "\n",
    "from benchmark_ml_ABM import (\n",
    "    run_benchmark,\n",
    "    models_bench,\n",
    "    params_regressors,\n",
    "    show_results_bench,\n",
    ")\n",
    "\n",
    "import jupyter_black\n",
    "\n",
    "jupyter_black.load()\n",
    "\n",
    "%load_ext autoreload\n",
    "%autoreload 2\n"
   ]
  },
  {
   "cell_type": "markdown",
   "id": "d47f619e-1672-4987-9690-aff21dd8cabb",
   "metadata": {},
   "source": [
    "## load data"
   ]
  },
  {
   "cell_type": "code",
   "execution_count": null,
   "id": "cf7ac318",
   "metadata": {},
   "outputs": [],
   "source": [
    "# Importation depuis un fichier pickle\n",
    "df = pd.read_pickle(\"../data/df_for_ml_article.pkl\")"
   ]
  },
  {
   "cell_type": "code",
   "execution_count": null,
   "id": "d827a8e1-6399-43af-93bf-1e37f9d6192a",
   "metadata": {},
   "outputs": [],
   "source": [
    "df = df[~df[\"IDD\"].isin(IDD_one_row)]"
   ]
  },
  {
   "cell_type": "markdown",
   "id": "230ff0fb-0b7a-4253-b2a5-bd235809ff16",
   "metadata": {},
   "source": [
    "## Slight preprocessing \n",
    "- It was debated by the scientific commitee afterward, during the machine learning phase of the project)"
   ]
  },
  {
   "cell_type": "code",
   "execution_count": null,
   "id": "2f405bc4-eaa6-48c0-8ebc-75ab1d44f723",
   "metadata": {},
   "outputs": [],
   "source": [
    "df[\"DecilePEPT_IMP\"] = np.where(df[\"DecilePEPT\"].isna(), 5, df[\"DecilePEPT\"])\n",
    "df[\"DecilePEPT_IMP\"] = np.where(df[\"CEC2\"] == \"O\", np.nan, df[\"DecilePEPT_IMP\"])\n",
    "print(df.DecilePEPT_IMP.value_counts())\n",
    "print(df.DecilePEPT_IMP.isna().sum())"
   ]
  },
  {
   "cell_type": "code",
   "execution_count": null,
   "id": "193b5ab8-7990-4f89-98af-ef2cf648d9cb",
   "metadata": {},
   "outputs": [],
   "source": [
    "df = df[\n",
    "    [\n",
    "        col\n",
    "        for col in df.columns\n",
    "        if col\n",
    "        not in variables_deduced\n",
    "        + variables_redundant_sup0\n",
    "        + [\"SCD\", \"DecilePEPT\", \"CEC2\"]\n",
    "    ]\n",
    "]\n",
    "\n",
    "df.head()\n",
    "nb_rows_full_df = len(df)\n",
    "df.info(memory_usage=\"deep\")"
   ]
  },
  {
   "cell_type": "code",
   "execution_count": null,
   "id": "e3e5d1d905d40815",
   "metadata": {},
   "outputs": [],
   "source": [
    "# Remove certain outliers (< 10 data points), impossible vital parameters values\n",
    "df.DFG = df.DFG.clip(upper=150)\n",
    "df.DFG_AVI = df.DFG_AVI.clip(upper=150)"
   ]
  },
  {
   "cell_type": "code",
   "execution_count": null,
   "id": "3da94836-1601-4b77-bf12-43dd6f9b563c",
   "metadata": {},
   "outputs": [],
   "source": [
    "# Rename columns\n",
    "for col in df.columns:\n",
    "    if col not in map_col_name:\n",
    "        print(col)\n",
    "    elif col != target_col:\n",
    "        map_col_name[col] = map_col_name[col] + f\" ({col})\"\n",
    "\n",
    "df.columns = [map_col_name[col] for col in df.columns]"
   ]
  },
  {
   "cell_type": "code",
   "execution_count": null,
   "id": "eba84382-3a73-488c-8976-9e59ca42c382",
   "metadata": {},
   "outputs": [],
   "source": [
    "# You may hade '.head(X)' to only use the X first rows of the df\n",
    "df = df.sort_values(map_col_name[\"IDD\"])  # .head(5000)"
   ]
  },
  {
   "cell_type": "markdown",
   "id": "06dd5d21-1682-41c9-901f-aae7f5f618cb",
   "metadata": {},
   "source": [
    "# Train / Test data"
   ]
  },
  {
   "cell_type": "code",
   "execution_count": null,
   "id": "a15bc44e-5599-4834-b57d-a729a483b662",
   "metadata": {},
   "outputs": [],
   "source": [
    "# Group effect: a stratification strategy was used to avoid data leakage during the training process\n",
    "# The data split was performed at the donor level, which resulted in candidate-donor pairs generated from the same donor\n",
    "# being assigned to the same subset. This stratification was required to avoid data leakage (Kaufman S leakage in data mining:\n",
    "# formulation, detection and avoidance, ACM Transactions on Knowledge Discovery from Data 2012) since multiple candidates\n",
    "# shared the same donor characteristics. If the split had been made across training and test sets, the model could have learned\n",
    "#  donor-specific patterns during training, and leveraged this information in the testing samples, leading to over-optimistic\n",
    "#  performance estimates.\n",
    "\n",
    "activate_group_mode = True"
   ]
  },
  {
   "cell_type": "markdown",
   "id": "9b64d03c-cc17-4a4d-b7cc-a84938a0d9bb",
   "metadata": {
    "execution": {
     "iopub.execute_input": "2025-01-19T17:14:31.453678Z",
     "iopub.status.busy": "2025-01-19T17:14:31.453678Z",
     "iopub.status.idle": "2025-01-19T17:14:31.576981Z",
     "shell.execute_reply": "2025-01-19T17:14:31.576167Z",
     "shell.execute_reply.started": "2025-01-19T17:14:31.453678Z"
    }
   },
   "source": [
    "## Split train/test/weight/group"
   ]
  },
  {
   "cell_type": "code",
   "execution_count": null,
   "id": "baff9492-8a30-49df-a9d8-35209cb55a5e",
   "metadata": {},
   "outputs": [],
   "source": [
    "print(df[map_col_name[\"ALLOC\"]].value_counts())\n",
    "df[map_col_name[\"ALLOC\"]] = df[map_col_name[\"ALLOC\"]].replace(\n",
    "    {\"ADUSTAND\": \"ADULTSTAND\"}\n",
    ")\n",
    "print(df[map_col_name[\"ALLOC\"]].value_counts())"
   ]
  },
  {
   "cell_type": "code",
   "execution_count": null,
   "id": "9e2d4b68-cb3d-45f5-b0e0-394774fc86bb",
   "metadata": {},
   "outputs": [],
   "source": [
    "# Same weight for all observations\n",
    "df[map_col_name[\"observation_weight\"]].value_counts()\n",
    "df[map_col_name[\"observation_weight\"]] = 1\n",
    "df[map_col_name[\"observation_weight\"]].value_counts()"
   ]
  },
  {
   "cell_type": "code",
   "execution_count": null,
   "id": "44da96f8-fc5d-4134-803f-eaa0b5b0a49b",
   "metadata": {},
   "outputs": [],
   "source": [
    "# Define relevant columns\n",
    "weight_col = map_col_name[\"observation_weight\"]\n",
    "group_col = map_col_name[\"IDD\"]\n",
    "\n",
    "# Verify that the necessary columns exist\n",
    "if target_col not in df.columns or weight_col not in df.columns:\n",
    "    raise ValueError(\n",
    "        f\"The columns '{target_col}' or '{weight_col}' are missing from the DataFrame.\"\n",
    "    )\n",
    "\n",
    "# Clean non-numeric columns\n",
    "X = df.drop(columns=[target_col, weight_col, group_col, map_col_name[\"IDR\"]])\n",
    "\n",
    "# Encode categorical variables\n",
    "# In the future, one might think other ways to do better than this method ? (try other approaches)\n",
    "X = pd.get_dummies(X, drop_first=True)\n",
    "\n",
    "# Séparation des variables explicatives et cible\n",
    "y = df[target_col]\n",
    "\n",
    "# Pondérations\n",
    "weights = df[weight_col]\n",
    "\n",
    "# Effets groupes (mesures répétées pour un même patient, séparer les groupes par ID de patient)\n",
    "groups = df[group_col]\n",
    "gkf = GroupKFold(n_splits=5)  # a CV using the groups"
   ]
  },
  {
   "cell_type": "code",
   "execution_count": null,
   "id": "602e7f4f-7a54-40bf-abe1-cbfb145a8bc5",
   "metadata": {},
   "outputs": [],
   "source": [
    "# ⚠️ If we IGNORE the group effect (repeated measures) - this is not RECOMMENDED !\n",
    "if not activate_group_mode:\n",
    "    # Split the data into training and test sets\n",
    "    X_train, X_test, y_train, y_test, weights_train, weights_test = train_test_split(\n",
    "        X, y, weights, test_size=0.2, random_state=42\n",
    "    )"
   ]
  },
  {
   "cell_type": "code",
   "execution_count": null,
   "id": "90ddbb8b-bf98-4d71-8abf-45b8870187a9",
   "metadata": {},
   "outputs": [],
   "source": [
    "# # ⚠️ Use stratification\n",
    "\n",
    "# 🚀 Create the training and test datasets by separating the groups\n",
    "if activate_group_mode:\n",
    "    # Use GroupShuffleSplit to split by groups (to avoid data leakage between train and test)\n",
    "    # This ensures that all samples from the same group are either in the train set or in the test set,\n",
    "    # which is crucial for models that account for group effects.\n",
    "\n",
    "    gss = GroupShuffleSplit(n_splits=1, test_size=0.2, random_state=42)\n",
    "    train_idx, test_idx = next(gss.split(X, y, groups))\n",
    "\n",
    "    X_train, X_test = X.iloc[train_idx], X.iloc[test_idx]\n",
    "    y_train, y_test = y.iloc[train_idx], y.iloc[test_idx]\n",
    "    weights_train, weights_test = weights.iloc[train_idx], weights.iloc[test_idx]\n",
    "    groups_train, groups_test = groups.iloc[train_idx], groups.iloc[test_idx]\n",
    "\n",
    "    print(\"We are ready for machine learning with group effects :)\")\n",
    "\n",
    "    print(\"Intersection:\", set(groups_train) & set(groups_test))  # ca doit etre vide !!"
   ]
  },
  {
   "cell_type": "markdown",
   "id": "6651455c-8014-4bb3-a661-7d843b6d7c44",
   "metadata": {},
   "source": [
    "# XGboost"
   ]
  },
  {
   "cell_type": "code",
   "execution_count": null,
   "id": "dbf8f58f-ff40-4106-89d0-38cf79e8d1e6",
   "metadata": {},
   "outputs": [],
   "source": [
    "# create an XGBoost regression model\n",
    "from params_ABM import xgboosst_grid\n",
    "\n",
    "regressor = XGBRegressor(\n",
    "    n_estimators=1000,\n",
    "    max_depth=7,  # for each tree\n",
    "    eta=0.1,  # learning rate\n",
    "    subsample=0.7,\n",
    "    colsample_bytree=0.8,  # subsampling of columns\n",
    ")\n",
    "\n",
    "if activate_group_mode:\n",
    "    # Training CV on the grid\n",
    "    y_pred, best_model = train_cv_regressor_group_effect(\n",
    "        X_train,\n",
    "        y_train,\n",
    "        X_test,\n",
    "        y_test,\n",
    "        weights_train,\n",
    "        weights_test,\n",
    "        groups_train,\n",
    "        regressor,\n",
    "        xgboosst_grid,\n",
    "        gkf,\n",
    "    )\n",
    "    print(\"training complete (with group effect)\")\n",
    "else:\n",
    "    # Training CV on the grid\n",
    "    y_pred, best_model = train_cv_regressor(\n",
    "        X_train,\n",
    "        y_train,\n",
    "        X_test,\n",
    "        y_test,\n",
    "        weights_train,\n",
    "        weights_test,\n",
    "        regressor,\n",
    "        xgboosst_grid,\n",
    "    )"
   ]
  },
  {
   "cell_type": "code",
   "execution_count": null,
   "id": "e8d1a008d8379691",
   "metadata": {},
   "outputs": [],
   "source": [
    "# ⚠️ Quite long to run\n",
    "partial_dependence_plot(best_model, X)"
   ]
  },
  {
   "cell_type": "code",
   "execution_count": null,
   "id": "4617fbfe-11cf-4dd4-acbd-168687ea1621",
   "metadata": {
    "editable": true,
    "slideshow": {
     "slide_type": ""
    },
    "tags": []
   },
   "outputs": [],
   "source": [
    "train_vs_test_error_curve(\n",
    "    X_train, y_train, X_test, y_test, weights_train, model_type=\"xgb\"\n",
    ")"
   ]
  },
  {
   "cell_type": "code",
   "execution_count": null,
   "id": "e3d13c8d9a09a741",
   "metadata": {
    "editable": true,
    "slideshow": {
     "slide_type": ""
    },
    "tags": []
   },
   "outputs": [],
   "source": [
    "residuals = residual_plot(y_test, y_pred)"
   ]
  },
  {
   "cell_type": "code",
   "execution_count": null,
   "id": "f963da148256a05f",
   "metadata": {},
   "outputs": [],
   "source": [
    "histo_residuals(residuals)"
   ]
  },
  {
   "cell_type": "code",
   "execution_count": null,
   "id": "37661ae24af8eee7",
   "metadata": {},
   "outputs": [],
   "source": [
    "feature_importance(best_model, X)"
   ]
  },
  {
   "cell_type": "code",
   "execution_count": null,
   "id": "822cd5d4-5eb7-4e2e-bee1-c840165c8a42",
   "metadata": {},
   "outputs": [],
   "source": [
    "# Translate labels from French to English\n",
    "translate_dict = {\n",
    "    \"Temps relatif du donneur (TimelineD)\": \"Rank by study period\",\n",
    "    \"Age du donneur (AGED)\": \"Donor age\",\n",
    "    \"Sexe donneur (SEXD)\": \"Donor sex\",\n",
    "    \"Taille donneur (TAILLED)\": \"Donor height\",\n",
    "    \"Poids donneur (POIDSD)\": \"Donor weight\",\n",
    "    \"Index points bonus assistance gauche (+750 pts) (IndALD)\": \"Provision to stable LVAD adult candidates\",\n",
    "    \"Age receveur (AGER)\": \"Candidate age\",\n",
    "    \"Sexe receveur (SEXER)\": \"Candidate sex\",\n",
    "    \"Taille receveur (TAILLER)\": \"Candidate height\",\n",
    "    \"Poids receveur (POIDSR)\": \"Candidate weight\",\n",
    "    \"Délai d'inscription (DelaiINSC)\": \"Waiting list duration\",\n",
    "    \"Délai CEC2 receveur (en j) (DelaiCEC2)\": \"VA-ECMO support duration\",\n",
    "    \"Délai ass. ventriculaire (DelaiAV2)\": \"LVAD support duration\",\n",
    "    \"Bilirubine receveur (µmol/L) (BILI2)\": \"Total bilirubin\",\n",
    "    \"Bilirubine avant CEC2 ou DRG2 (BILI_AVI)\": \"Bilirubin before initiation of VA-ECMO or inotropes\",\n",
    "    \"Décile Peptides avant CEC2 ou DRG2 (1 à 10) (DecilePEPT_AVI)\": \"Natriuretic peptide before initiation of VA-ECMO or inotropic infusion\",\n",
    "    \"Distance (en minutes) (DIST)\": \"Geographic component\",\n",
    "    \"Débit de filtration glomérulaire (DFG)\": \"eGFR\",\n",
    "    \"Débit de filtration glomérulaire avant CEC2 ou DRG2 (DFG_AVI)\": \"eGFR before initiation of VA-ECMO or inotropes\",\n",
    "    \"Décile Peptides (DecilePEPT_IMP)\": \"Natriuretic peptide / VA-ECMO\",\n",
    "    \"Groupe sanguin donneur (ABOD)_AB\": \"Blood type AB donor\",\n",
    "    \"Groupe sanguin donneur (ABOD)_B\": \"Blood type B donor\",\n",
    "    \"Groupe sanguin donneur (ABOD)_O\": \"Blood type 0 donor\",\n",
    "    \"Groupe sanguin receveur (ABOR)_AB\": \"Blood type AB candidate\",\n",
    "    \"Groupe sanguin receveur (ABOR)_B\": \"Blood type B candidate\",\n",
    "    \"Groupe sanguin receveur (ABOR)_O\": \"Blood type 0 candidate\",\n",
    "    \"Drogues inotropes receveur (DRG2)_O\": \"Inotropes\",\n",
    "    \"Type d'assistance ventriculaire (SIAV2)_G\": \"Uncomplicated LVAD\",\n",
    "    \"Composante score (adulte/pédiatrie +/- urgence) (ALLOC)_ADULTURG\": \"Exceptions in adult candidates without durable MCS\",\n",
    "    \"Composante score (adulte/pédiatrie +/- urgence) (ALLOC)_ADULTURG_AV\": \"Exception in adult candidates with LVAD-related complication\",\n",
    "    \"Composante score (adulte/pédiatrie +/- urgence) (ALLOC)_PEDSTAND\": \"Non-urgent pediatric candidates\",\n",
    "    \"Composante score (adulte/pédiatrie +/- urgence) (ALLOC)_PEDURG\": \"Urgent pediatric candidates\",\n",
    "    \"Maladie receveur (MAL)_Dilated cardiomyopathy\": \"Dilated cardiomyopathy as indication\",\n",
    "    \"Maladie receveur (MAL)_Other\": \"Other indication for transplantation\",\n",
    "    \"Maladie receveur (MAL)_Valvular or Congenital heart disease\": \"Valvular or congenital cardiomyopthy as indication\",\n",
    "    \"Cœur Artificiel Total (ou BV) (CAT_BV)_O\": \"BiVAD or TAH\",\n",
    "}\n",
    "X_lab = X.rename(columns=translate_dict)"
   ]
  },
  {
   "cell_type": "code",
   "execution_count": null,
   "id": "d949a638-7e35-4edd-bb8a-eeeeb1379c5a",
   "metadata": {},
   "outputs": [],
   "source": [
    "feature_importance(best_model, X_lab)"
   ]
  },
  {
   "cell_type": "code",
   "execution_count": null,
   "id": "ba4fc9cf-63b4-4113-843d-b090e393aeed",
   "metadata": {},
   "outputs": [],
   "source": [
    "predicted_vs_actual(y_test, y_pred)"
   ]
  },
  {
   "cell_type": "code",
   "execution_count": null,
   "id": "4ac0293e-6c29-415e-8045-2d2ab95adc7e",
   "metadata": {},
   "outputs": [],
   "source": [
    "learning_cure(best_model, X, y, groups)  # train the model for 5 sizes of data samples"
   ]
  },
  {
   "cell_type": "code",
   "execution_count": null,
   "id": "fbe13e18-6765-46e8-9f68-e59a45ff7138",
   "metadata": {},
   "outputs": [],
   "source": [
    "print(\"Data viz terminée.\")"
   ]
  },
  {
   "cell_type": "markdown",
   "id": "cbccaa39-2155-4ec8-84e1-07e2b4bd871f",
   "metadata": {},
   "source": [
    "# XAI\n",
    "- https://christophm.github.io/interpretable-ml-book/pdp.html"
   ]
  },
  {
   "cell_type": "markdown",
   "id": "2195e92a-8148-4555-ad24-4c1405faf1d8",
   "metadata": {},
   "source": [
    "Key Notes for Decision Trees and Random Forests\n",
    "1. SHAP Values for Trees\n",
    "Tree-based models like Decision Trees and Random Forests are fully supported by TreeExplainer.\n",
    "SHAP is computationally efficient because it uses tree-specific optimizations.\n",
    "2. Feature Importance\n",
    "SHAP values provide a better and more consistent feature importance measure compared to built-in importance measures (like feature_importances_).\n",
    "3. Interpretability\n",
    "Use summary_plot to see the global importance of features.\n",
    "Use dependence_plot to analyze the effect of a specific feature on predictions.\n",
    "Use force_plot to explain individual predictions.\n",
    "4. For Random Forests\n",
    "SHAP computes values for the ensemble of trees in the forest, considering the contribution of each tree in the ensemble.\n",
    "\n",
    "*Example Outputs*   \n",
    "SHAP Summary Plot:\n",
    "- Shows the importance of each feature and its impact on the model’s predictions.   \n",
    "\n",
    "SHAP Dependence Plot:\n",
    "- Visualizes how a specific feature contributes to the prediction.   \n",
    "\n",
    "SHAP Force Plot:\n",
    "- Explains a single prediction with feature contributions.\n"
   ]
  },
  {
   "cell_type": "code",
   "execution_count": null,
   "id": "d242549e-f484-41b5-bc1e-2d1d88f45df5",
   "metadata": {
    "editable": true,
    "slideshow": {
     "slide_type": ""
    },
    "tags": []
   },
   "outputs": [],
   "source": [
    "# SHAP (classic) ~20min for XGboost\n",
    "explainer, shap_values, explaination = compute_shap_values(\n",
    "    best_model, X_test, max_nb_feature_show=30\n",
    ")"
   ]
  },
  {
   "cell_type": "code",
   "execution_count": null,
   "id": "b64a46db-fad7-4158-ae32-264f4b582948",
   "metadata": {},
   "outputs": [],
   "source": [
    "X_test_lab = X_test.rename(columns=translate_dict)"
   ]
  },
  {
   "cell_type": "code",
   "execution_count": null,
   "id": "9fe2f593478df097",
   "metadata": {},
   "outputs": [],
   "source": [
    "# BEESWARM - Visualize SHAP values - Summary plot for feature importance\n",
    "\n",
    "figsize = (18, 20)  # Figure size (width, height)\n",
    "fig = plt.figure(figsize=figsize)\n",
    "ax = fig.gca()\n",
    "shap.summary_plot(\n",
    "    shap_values,\n",
    "    X_test_lab,\n",
    "    max_display=40,  # Number of variables to display\n",
    "    plot_size=(18, 20),\n",
    "    cmap=plt.get_cmap(\"coolwarm\"),  # Colors\n",
    "    alpha=1,  # Transparency of points, useful for a large dataset like ours\n",
    "    title=\"SHAP Summary Plot for XGBoost Model\",\n",
    ")\n",
    "# ax.set_yticks(np.arange(0.5, 18.5, step=0.5))\n",
    "ax.yaxis.set_major_locator(ticker.IndexLocator(base=0.5, offset=0))\n",
    "plt.show()"
   ]
  },
  {
   "cell_type": "code",
   "execution_count": null,
   "id": "c17365da-1324-4f7c-8137-a50eb7a8f4d2",
   "metadata": {},
   "outputs": [],
   "source": [
    "figsize = (18, 20)  # Figure size (width, height)\n",
    "fig = plt.figure(figsize=figsize)\n",
    "ax = fig.gca()\n",
    "shap.plots.bar(\n",
    "    explaination,\n",
    "    max_display=40,\n",
    "    show=False,\n",
    ")\n",
    "ax.set_yticks(\n",
    "    np.arange(1, 37),\n",
    "    labels=[\n",
    "        \"Blood type AB donor\",\n",
    "        \"Valvular or congenital cardiomyopthy as indication\",\n",
    "        \"Natriuretic peptide before initiation of VA-ECMO or inotropic infusion\",\n",
    "        \"Dilated cardiomyopathy as indication\",\n",
    "        \"BiVAD or TAH\",\n",
    "        \"Candidate sex\",\n",
    "        \"Blood type AB candidate\",\n",
    "        \"Other indication for transplantation\",\n",
    "        \"Urgent pediatric candidates\",\n",
    "        \"Blood type B candidate\",\n",
    "        \"Blood type 0 candidate\",\n",
    "        \"eGFR before initiation of VA-ECMO or inotropes\",\n",
    "        \"Blood type B donor\",\n",
    "        \"Donor sex\",\n",
    "        \"Non-urgent pediatric candidates\",\n",
    "        \"VA-ECMO support duration\",\n",
    "        \"Inotropes\",\n",
    "        \"Bilirubin before initiation of VA-ECMO or inotropes\",\n",
    "        \"Candidate height\",\n",
    "        \"Candidate weight\",\n",
    "        \"Waiting list duration\",\n",
    "        \"Donor height\",\n",
    "        \"Donor weight\",\n",
    "        \"Blood type 0 donor\",\n",
    "        \"Uncomplicated LVAD\",\n",
    "        \"LVAD support duration\",\n",
    "        \"Rank by study period\",\n",
    "        \"Exception in adult candidates with LVAD-related complication\",\n",
    "        \"Provision to stable LVAD adult candidates\",\n",
    "        \"Exceptions in adult candidates without durable MCS\",\n",
    "        \"Donor age\",\n",
    "        \"eGFR\",\n",
    "        \"Candidate age\",\n",
    "        \"Geographic component\",\n",
    "        \"Total bilirubin\",\n",
    "        \"Natriuretic peptide / VA-ECMO\",\n",
    "    ],\n",
    "    color=\"black\",\n",
    ")\n",
    "plt.show()"
   ]
  },
  {
   "cell_type": "code",
   "execution_count": null,
   "id": "47e1bd89-1240-4b8e-8757-8a9ef944010d",
   "metadata": {},
   "outputs": [],
   "source": [
    "draw_single_shap_plot_uni(\n",
    "    \"VA-ECMO support duration\",\n",
    "    shap_values,\n",
    "    X_test_lab,\n",
    "    (-0.5, 18.5),\n",
    ")"
   ]
  },
  {
   "cell_type": "code",
   "execution_count": null,
   "id": "86961d80-17ec-4606-a50b-3fa287deb07f",
   "metadata": {},
   "outputs": [],
   "source": [
    "draw_single_shap_plot_uni(\n",
    "    \"Natriuretic peptide / VA-ECMO\",\n",
    "    shap_values,\n",
    "    X_test_lab,\n",
    "    (99,),\n",
    "    (-0.4, 0.6),\n",
    ")"
   ]
  },
  {
   "cell_type": "code",
   "execution_count": null,
   "id": "898e48aa-6adb-46e3-a55d-d8fba3c111dd",
   "metadata": {},
   "outputs": [],
   "source": [
    "draw_single_shap_plot_uni(\n",
    "    \"Exceptions in adult candidates without durable MCS\",\n",
    "    shap_values,\n",
    "    X_test_lab,\n",
    "    (99,),\n",
    "    (-0.4, 0.7),\n",
    ")"
   ]
  },
  {
   "cell_type": "code",
   "execution_count": null,
   "id": "a8c2c56f-c23b-45d5-80f2-b1078d969969",
   "metadata": {},
   "outputs": [],
   "source": [
    "txt_alloc = \"Composante score (adulte/pédiatrie +/- urgence) (ALLOC)_ADULTURG_AV\"\n",
    "shap_URG_AV = explaination[:, txt_alloc].values[explaination[:, txt_alloc].data == True]\n",
    "print(shap_URG_AV.size)\n",
    "print(np.repeat(3, 5))"
   ]
  },
  {
   "cell_type": "code",
   "execution_count": null,
   "id": "c700c976-a3aa-415d-aeca-723c50a6bacf",
   "metadata": {},
   "outputs": [],
   "source": [
    "data_Index_URG_AV = explaination[\n",
    "    :, \"Index points bonus assistance gauche (+750 pts) (IndALD)\"\n",
    "].data[explaination[:, txt_alloc].data == True]\n",
    "print(data_Index_URG_AV)\n",
    "print(data_Index_URG_AV.size)"
   ]
  },
  {
   "cell_type": "code",
   "execution_count": null,
   "id": "330857c1-26c4-480d-9efc-557b13bcf250",
   "metadata": {},
   "outputs": [],
   "source": [
    "shap_AV = explaination[:, \"Type d'assistance ventriculaire (SIAV2)_G\"].values\n",
    "data_AV = explaination[:, \"Type d'assistance ventriculaire (SIAV2)_G\"].data\n",
    "data_Index_AV = explaination[\n",
    "    :, \"Index points bonus assistance gauche (+750 pts) (IndALD)\"\n",
    "].data\n",
    "data_AV = data_AV * 1"
   ]
  },
  {
   "cell_type": "code",
   "execution_count": null,
   "id": "46589540-f082-49c7-b8fd-5e0bbf7592d5",
   "metadata": {},
   "outputs": [],
   "source": [
    "shap_AV_glob = np.concatenate((shap_AV, shap_URG_AV))\n",
    "print(shap_AV_glob.shape)\n",
    "data_AV_glob = np.concatenate((data_AV, np.repeat(2, shap_URG_AV.size)))\n",
    "print(data_AV_glob.shape)\n",
    "col_Index_AV_glob = np.concatenate((data_Index_AV, data_Index_URG_AV))\n",
    "print(col_Index_AV_glob.shape)"
   ]
  },
  {
   "cell_type": "code",
   "execution_count": null,
   "id": "4125860f-6557-423e-b03e-8ba22a7d9f4a",
   "metadata": {},
   "outputs": [],
   "source": [
    "def jitter(values, amount):\n",
    "    return values + np.random.uniform(-amount, amount, len(values))"
   ]
  },
  {
   "cell_type": "code",
   "execution_count": null,
   "id": "50f3971a-9713-4e5e-86fc-5939dfe08859",
   "metadata": {},
   "outputs": [],
   "source": [
    "data_AV_glob_jitt = jitter(data_AV_glob, 0.3)"
   ]
  },
  {
   "cell_type": "code",
   "execution_count": null,
   "id": "0a0bec90-7afc-43aa-85e7-560cf4fe271f",
   "metadata": {},
   "outputs": [],
   "source": [
    "fig, ax = plt.subplots()\n",
    "scatter = ax.scatter(\n",
    "    data_AV_glob_jitt,\n",
    "    shap_AV_glob,\n",
    "    c=col_Index_AV_glob,\n",
    "    # cmap=ListedColormap([\"deepskyblue\", \"orchid\"]),\n",
    "    cmap=ListedColormap([\"#B24745FF\", \"#00A1D5FF\"]),\n",
    "    s=7,\n",
    ")\n",
    "fig.set_figheight(5)\n",
    "fig.set_figwidth(10)\n",
    "ax.set_xlabel(\"LVAD\")\n",
    "ax.set_ylabel(\"SHAP value for\\n LVAD\")\n",
    "ax.set_title(\"SHAP Dependence Plot\")\n",
    "ax.set_xticks(\n",
    "    [0, 1, 2],\n",
    "    labels=[\n",
    "        \"No LVAD\",\n",
    "        \"Uncomplicated LVAD\",\n",
    "        \"Exception in adult candidates \\nwith LVAD-related complication\",\n",
    "    ],\n",
    ")\n",
    "ax.set_ylim(-0.4, 0.6)\n",
    "ax.legend(\n",
    "    handles=scatter.legend_elements()[0],\n",
    "    labels=[\"No\", \"Yes\"],\n",
    "    loc=\"upper left\",\n",
    "    title=\"Provision to stable LVAD adult candidates\",\n",
    "    alignment=\"left\",\n",
    ")\n",
    "ax.axhline(0, color=\"gray\", linestyle=\"--\", linewidth=1)\n",
    "ax.spines[[\"right\", \"top\"]].set_visible(False)"
   ]
  },
  {
   "cell_type": "code",
   "execution_count": null,
   "id": "0738f01f-a987-4b29-b2d5-90fca888c23e",
   "metadata": {},
   "outputs": [],
   "source": [
    "draw_single_shap_plot(\n",
    "    \"Candidate age\",\n",
    "    \"Donor age\",\n",
    "    shap_values,\n",
    "    X_test_lab,\n",
    "    (99,),\n",
    ")"
   ]
  },
  {
   "cell_type": "code",
   "execution_count": null,
   "id": "e2d580b2-6e50-4b4f-af68-220bb44bba0c",
   "metadata": {},
   "outputs": [],
   "source": [
    "draw_single_shap_plot_uni(\n",
    "    \"Total bilirubin\",\n",
    "    shap_values,\n",
    "    X_test_lab,\n",
    "    (0, 160),\n",
    "    (-0.5, 0.5),\n",
    ")"
   ]
  },
  {
   "cell_type": "code",
   "execution_count": null,
   "id": "a22b6ac2-1c14-4762-94b7-6934493ea4ab",
   "metadata": {},
   "outputs": [],
   "source": [
    "draw_single_shap_plot_uni(\n",
    "    \"Geographic component\",\n",
    "    shap_values,\n",
    "    X_test_lab,\n",
    "    (0, 300),\n",
    ")"
   ]
  },
  {
   "cell_type": "code",
   "execution_count": null,
   "id": "2e62810c-0a6f-4627-a6f8-b763bfc7ed86",
   "metadata": {},
   "outputs": [],
   "source": [
    "draw_single_shap_plot_uni(\n",
    "    \"eGFR\",\n",
    "    shap_values,\n",
    "    X_test_lab,\n",
    "    (99,),\n",
    "    (-0.5, 0.5),\n",
    ")"
   ]
  },
  {
   "cell_type": "code",
   "execution_count": null,
   "id": "01e051ef-d286-4630-a6af-4dd3835ad9dd",
   "metadata": {},
   "outputs": [],
   "source": [
    "draw_single_shap_plot_uni(\n",
    "    \"Inotropes\",\n",
    "    shap_values,\n",
    "    X_test_lab,\n",
    "    (99,),\n",
    ")"
   ]
  },
  {
   "cell_type": "code",
   "execution_count": null,
   "id": "bbc31868-066d-4afe-95d8-b1a61f00b73b",
   "metadata": {},
   "outputs": [],
   "source": [
    "figsize = (10, 5)  # Figure size (width, height)\n",
    "fig = plt.figure(figsize=figsize)\n",
    "ax = fig.gca()\n",
    "ax.axhline(0, color=\"gray\", linestyle=\"--\", linewidth=1)\n",
    "shap.dependence_plot(\n",
    "    \"Candidate sex\",\n",
    "    shap_values,\n",
    "    X_test_lab,\n",
    "    interaction_index=None,\n",
    "    dot_size=16,\n",
    "    alpha=0.9,\n",
    "    x_jitter=0.3,\n",
    "    title=\"SHAP Dependence Plot\",\n",
    "    ax=ax,\n",
    "    show=False,  # Do not show the plot yet, we will adjust it\n",
    ")\n",
    "ax.set_xticks([1, 2], labels=[\"Male\", \"Female\"])\n",
    "ax.set_ylim(-0.4, 0.4)\n",
    "plt.show()"
   ]
  },
  {
   "cell_type": "code",
   "execution_count": null,
   "id": "134ff2ab-2bc4-4a8a-93eb-28fb65bbe949",
   "metadata": {},
   "outputs": [],
   "source": [
    "bench = run_benchmark(\n",
    "    models_bench,\n",
    "    params_regressors,\n",
    "    X_train,\n",
    "    X_test,\n",
    "    y_train,\n",
    "    y_test,\n",
    "    weights_train,\n",
    "    weights_test,\n",
    "    groups_train,\n",
    "    activate_group_mode,\n",
    "    gkf,\n",
    ")"
   ]
  },
  {
   "cell_type": "code",
   "execution_count": null,
   "id": "a8bfaf70-0a7e-42ed-bb68-0598f0ee3255",
   "metadata": {},
   "outputs": [],
   "source": [
    "show_results_bench(bench, y_test)"
   ]
  }
 ],
 "metadata": {
  "kernelspec": {
   "display_name": "article-abm",
   "language": "python",
   "name": "article-abm"
  },
  "language_info": {
   "codemirror_mode": {
    "name": "ipython",
    "version": 3
   },
   "file_extension": ".py",
   "mimetype": "text/x-python",
   "name": "python",
   "nbconvert_exporter": "python",
   "pygments_lexer": "ipython3",
   "version": "3.13.5"
  }
 },
 "nbformat": 4,
 "nbformat_minor": 5
}
